{
 "cells": [
  {
   "cell_type": "code",
   "execution_count": 9,
   "id": "75ceb19c",
   "metadata": {},
   "outputs": [
    {
     "name": "stdout",
     "output_type": "stream",
     "text": [
      "torch.Size([1, 5])\n",
      "Embedding(3, 2)\n",
      "torch.Size([1, 2])\n",
      "torch.Size([1, 7])\n"
     ]
    }
   ],
   "source": [
    "\n",
    "\n",
    "import torch\n",
    "import torch.nn as nn\n",
    "\n",
    "# Random scenario setup\n",
    "B = 1       # batch size\n",
    "z_dim = 5      # latent size\n",
    "K = 3          # number of classes\n",
    "e = 2          # embedding dimension\n",
    "img_dim = 6    # fake image flattened size (toy)\n",
    "\n",
    "# Create random z and labels\n",
    "z = torch.randn(B, z_dim)\n",
    "print(z.shape)\n",
    "\n",
    "y = torch.randint(0, K, (B,))\n",
    "\n",
    "# Embedding for classes\n",
    "embedding = nn.Embedding(K, e)\n",
    "print(embedding)\n",
    "y_emb = embedding(y)\n",
    "print(y_emb.shape)\n",
    "\n",
    "# Generator input\n",
    "g_in = torch.cat([z, y_emb], dim=1)\n",
    "print(g_in.shape)\n",
    "# Fake generator (just linear for demo)\n",
    "G = nn.Linear(z_dim + e, img_dim)\n",
    "x_hat = G(g_in)\n",
    "\n",
    "# Flatten real \"images\" (random)\n",
    "x = torch.randn(B, img_dim)\n",
    "x_flat = x.view(B, -1)\n",
    "\n",
    "# Discriminator input\n",
    "d_in = torch.cat([x_flat, y_emb], dim=1)\n",
    "D = nn.Linear(img_dim + e, 1)\n",
    "score = D(d_in)\n",
    "\n",
    "\n"
   ]
  }
 ],
 "metadata": {
  "kernelspec": {
   "display_name": "quench",
   "language": "python",
   "name": "python3"
  },
  "language_info": {
   "codemirror_mode": {
    "name": "ipython",
    "version": 3
   },
   "file_extension": ".py",
   "mimetype": "text/x-python",
   "name": "python",
   "nbconvert_exporter": "python",
   "pygments_lexer": "ipython3",
   "version": "3.10.18"
  }
 },
 "nbformat": 4,
 "nbformat_minor": 5
}
